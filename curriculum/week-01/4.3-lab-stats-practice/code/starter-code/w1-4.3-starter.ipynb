{
 "cells": [
  {
   "cell_type": "code",
   "execution_count": 3,
   "metadata": {
    "collapsed": false
   },
   "outputs": [
    {
     "data": {
      "text/plain": [
       "array([ 0.98266743,  0.15116074,  0.26724015,  0.27884101,  0.53208075,\n",
       "        0.99647252,  0.32748797,  0.91227799,  0.10856104,  0.21155378,\n",
       "        0.29976032,  0.05837897,  0.81580936,  0.99729353,  0.12889603,\n",
       "        0.52395041,  0.85038211,  0.4941184 ,  0.42649829,  0.11201958,\n",
       "        0.19155636,  0.54665884,  0.32307672,  0.98625624,  0.60403583])"
      ]
     },
     "execution_count": 3,
     "metadata": {},
     "output_type": "execute_result"
    }
   ],
   "source": [
    "import numpy as np \n",
    "import math \n",
    "\n",
    "# create an array\n",
    "a = np.array([[0,1,2,3,4,5,6,7],[0,1,2,3,4,5,6,7],[0,1,2,3,4,5,6,7],[0,1,2,3,4,5,6,7]])\n",
    "b = np.random.rand(25)\n",
    "b"
   ]
  },
  {
   "cell_type": "code",
   "execution_count": 50,
   "metadata": {
    "collapsed": false
   },
   "outputs": [
    {
     "name": "stdout",
     "output_type": "stream",
     "text": [
      "2.51092607021\n",
      "\n",
      "using manual calculation\n",
      "0\n",
      "\n",
      "using numpy\n"
     ]
    },
    {
     "data": {
      "text/plain": [
       "5.25"
      ]
     },
     "execution_count": 50,
     "metadata": {},
     "output_type": "execute_result"
    }
   ],
   "source": [
    "# Write a function that computes the variance\n",
    "# Compare your function results with numpy results\n",
    "   \n",
    "def maual_mean(array):\n",
    "    sum_mean = 0\n",
    "    for i in array:\n",
    "        sum_mean += i\n",
    "    result = sum_mean/len(array)\n",
    "    return result\n",
    "\n",
    "def manual_variance(array):\n",
    "    a_sum = 0\n",
    "    array_mean = maual_mean(array)\n",
    "#    array_mean = a.mean()\n",
    "    for value in array:\n",
    "        diff = (array_mean - value)**2\n",
    "        a_sum += diff\n",
    "    result = a_sum / len(array)\n",
    "    print a_sum\n",
    "    return result\n",
    "#    print len(array)\n",
    "#    print array_mean, value, a_sum \n",
    "\n",
    "\n",
    "manual_variance(b)\n",
    "print '\\nusing manual calculation'\n",
    "print sum\n",
    "\n",
    "print '\\nusing numpy'\n",
    "a_var = a.var()\n",
    "a_var"
   ]
  },
  {
   "cell_type": "code",
   "execution_count": 16,
   "metadata": {
    "collapsed": false
   },
   "outputs": [
    {
     "name": "stdout",
     "output_type": "stream",
     "text": [
      "2.29128784748\n"
     ]
    }
   ],
   "source": [
    "# Write a function that computes the standard deviation and \n",
    "# compare your function results with numpy equivalents. \n",
    "def std_dev(v):\n",
    "    sd = v **.5\n",
    "    print sd\n",
    "\n",
    "std_dev(a_var)\n"
   ]
  },
  {
   "cell_type": "code",
   "execution_count": 17,
   "metadata": {
    "collapsed": false
   },
   "outputs": [
    {
     "data": {
      "text/plain": [
       "3.5"
      ]
     },
     "execution_count": 17,
     "metadata": {},
     "output_type": "execute_result"
    }
   ],
   "source": [
    "a.mean()\n"
   ]
  },
  {
   "cell_type": "code",
   "execution_count": null,
   "metadata": {
    "collapsed": true
   },
   "outputs": [],
   "source": []
  }
 ],
 "metadata": {
  "kernelspec": {
   "display_name": "Python 2",
   "language": "python",
   "name": "python2"
  },
  "language_info": {
   "codemirror_mode": {
    "name": "ipython",
    "version": 2
   },
   "file_extension": ".py",
   "mimetype": "text/x-python",
   "name": "python",
   "nbconvert_exporter": "python",
   "pygments_lexer": "ipython2",
   "version": "2.7.11"
  }
 },
 "nbformat": 4,
 "nbformat_minor": 0
}
